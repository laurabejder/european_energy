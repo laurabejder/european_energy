{
 "cells": [
  {
   "cell_type": "code",
   "execution_count": null,
   "metadata": {},
   "outputs": [],
   "source": [
    "import pandas as pd\n",
    "from datetime import date\n",
    "from bs4 import BeautifulSoup\n",
    "import requests\n",
    "from playwright.async_api import async_playwright\n",
    "import time\n",
    "import numpy as np\n",
    "pd.set_option('display.max_colwidth', None)"
   ]
  },
  {
   "cell_type": "code",
   "execution_count": null,
   "metadata": {},
   "outputs": [],
   "source": [
    "# Take today's date and format it - must be used in the URLs.\n",
    "\n",
    "date = date.today()\n",
    "\n",
    "date = date.strftime(\"%d.%m.%Y\")\n",
    "\n",
    "print(date)"
   ]
  },
  {
   "cell_type": "code",
   "execution_count": null,
   "metadata": {},
   "outputs": [],
   "source": [
    "# Read in the links and update with today's date\n",
    "df = pd.read_csv(\"data/links.csv\")\n",
    "\n",
    "df = df.replace(to_replace=r'01.01.2023', value= date, regex=True)"
   ]
  },
  {
   "cell_type": "code",
   "execution_count": null,
   "metadata": {},
   "outputs": [],
   "source": [
    "playwright = await async_playwright().start()\n",
    "browser = await playwright.chromium.launch(headless = True)\n",
    "page = await browser.new_page()\n",
    "\n",
    "url = df.iloc[0]['link']\n",
    "await page.goto(url)\n",
    "\n",
    "time.sleep(1)\n",
    "await page.locator(\"#close-button\").click()"
   ]
  },
  {
   "cell_type": "code",
   "execution_count": null,
   "metadata": {},
   "outputs": [],
   "source": [
    "# Create an empty dataframe for the scrape.\n",
    "total_df = pd.DataFrame()"
   ]
  },
  {
   "cell_type": "code",
   "execution_count": null,
   "metadata": {},
   "outputs": [],
   "source": [
    "for index, row in df.iterrows():\n",
    "    url = row['link']\n",
    "\n",
    "    country = row['country']\n",
    "    area = row['area']\n",
    "    \n",
    "    await page.goto(url)\n",
    "    time.sleep(5)\n",
    "    await page.get_by_text(\"PT60M\").click()\n",
    "\n",
    "    time.sleep(5)\n",
    "\n",
    "    tables = pd.read_html(await page.content(), flavor = 'html5lib')\n",
    "    data = tables[0]\n",
    "    data.insert(0, 'country', country)\n",
    "    data.insert(1, 'area', area)\n",
    "    total_df = pd.concat([total_df, data], axis=0)"
   ]
  },
  {
   "cell_type": "code",
   "execution_count": null,
   "metadata": {},
   "outputs": [],
   "source": [
    "total_df = total_df.droplevel(0, axis=1)"
   ]
  },
  {
   "cell_type": "code",
   "execution_count": null,
   "metadata": {},
   "outputs": [],
   "source": [
    "total_df.columns = ['country', 'area', 'mtu', 'currency/mwh', 'eur/mwh', 'uah/mwh', 'date']"
   ]
  },
  {
   "cell_type": "code",
   "execution_count": null,
   "metadata": {},
   "outputs": [],
   "source": [
    "total_df['date'] = pd.to_datetime('today').strftime(\"%m/%d/%Y\")\n",
    "\n",
    "total_df = total_df[['country', 'area', 'mtu', 'currency/mwh', 'eur/mwh', 'date']]"
   ]
  },
  {
   "cell_type": "code",
   "execution_count": null,
   "metadata": {},
   "outputs": [],
   "source": [
    "# Standardize the missing values\n",
    "total_df.replace({'-': np.nan}, inplace=True)\n",
    "total_df.replace({'n/e': np.nan}, inplace=True)\n",
    "\n",
    "# And reorder the columns\n",
    "all_data = total_df[['date', 'country', 'area', 'mtu', 'currency/mwh', 'eur/mwh']]"
   ]
  },
  {
   "cell_type": "code",
   "execution_count": null,
   "metadata": {},
   "outputs": [],
   "source": [
    "all_data.to_csv(\"data/europaenergy_today.csv\", index=False)"
   ]
  }
 ],
 "metadata": {
  "kernelspec": {
   "display_name": "Python 3.11.0rc2 64-bit ('3.11.0rc2')",
   "language": "python",
   "name": "python3"
  },
  "language_info": {
   "codemirror_mode": {
    "name": "ipython",
    "version": 3
   },
   "file_extension": ".py",
   "mimetype": "text/x-python",
   "name": "python",
   "nbconvert_exporter": "python",
   "pygments_lexer": "ipython3",
   "version": "3.11.0rc2"
  },
  "orig_nbformat": 4,
  "vscode": {
   "interpreter": {
    "hash": "fa07e5dff76123542c28abca75c0e47ea742948dbeeb360ccfbd2a5c7c277f8b"
   }
  }
 },
 "nbformat": 4,
 "nbformat_minor": 2
}
